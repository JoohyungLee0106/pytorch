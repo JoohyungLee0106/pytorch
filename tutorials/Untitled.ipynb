{
 "cells": [
  {
   "cell_type": "markdown",
   "metadata": {},
   "source": [
    "# miscellaneous (PyTorch)\n",
    "```\n",
    "by Joohyung Lee\n",
    "```"
   ]
  },
  {
   "cell_type": "markdown",
   "metadata": {},
   "source": [
    "## 1) in-place: write over the address of the input (destorying the input after execution)\n",
    "\n",
    "Example: relu, batchnorm, etc\n",
    "ref: https://medium.com/@eugenekhvedchenya/why-you-should-start-using-in-place-activated-batchnorm-11a85bb15c06"
   ]
  },
  {
   "cell_type": "code",
   "execution_count": null,
   "metadata": {},
   "outputs": [],
   "source": []
  }
 ],
 "metadata": {
  "kernelspec": {
   "display_name": "Python 3",
   "language": "python",
   "name": "python3"
  },
  "language_info": {
   "codemirror_mode": {
    "name": "ipython",
    "version": 3
   },
   "file_extension": ".py",
   "mimetype": "text/x-python",
   "name": "python",
   "nbconvert_exporter": "python",
   "pygments_lexer": "ipython3",
   "version": "3.6.1"
  }
 },
 "nbformat": 4,
 "nbformat_minor": 4
}
